{
 "cells": [
  {
   "cell_type": "code",
   "execution_count": 1,
   "metadata": {},
   "outputs": [],
   "source": [
    "# Adapted from: https://github.com/Shubha23/Fake-News-Detection-Text-Preprocessing-and-Classification/blob/master/fake-news-detection-text-pre-processing-using-nltk.ipynb\n",
    "# and: https://github.com/manthan89-py/Fake_News_detection/blob/master/Fake%20News.ipynb\n",
    "\n",
    "# Import necessary Python libraries, modules, etc. \n",
    "import re # for regular expressions\n",
    "import string as st # for removing punctuation\n",
    "import numpy as np # for linear algebra\n",
    "import pandas as pd # for frame processing\n",
    "import matplotlib.pyplot as plt # for data visualization\n",
    "import nltk # for natural language processing\n",
    "from nltk.corpus import stopwords # for removing english stopwords\n",
    "from nltk.stem import WordNetLemmatizer # for term stemming\n",
    "import sklearn # for predictive data analysis\n",
    "from sklearn import preprocessing # for data preprocessing\n",
    "from sklearn.model_selection import train_test_split # for splitting data into test/train sets\n",
    "from sklearn.feature_extraction.text import TfidfVectorizer\n",
    "from IPython.core.interactiveshell import InteractiveShell # to modify Jupyter notebook configuration\n",
    "InteractiveShell.ast_node_interactivity = \"all\" # so that all outputs in a cell are returned (instead of last instance)"
   ]
  },
  {
   "cell_type": "code",
   "execution_count": 2,
   "metadata": {},
   "outputs": [
    {
     "data": {
      "text/html": [
       "<div>\n",
       "<style scoped>\n",
       "    .dataframe tbody tr th:only-of-type {\n",
       "        vertical-align: middle;\n",
       "    }\n",
       "\n",
       "    .dataframe tbody tr th {\n",
       "        vertical-align: top;\n",
       "    }\n",
       "\n",
       "    .dataframe thead th {\n",
       "        text-align: right;\n",
       "    }\n",
       "</style>\n",
       "<table border=\"1\" class=\"dataframe\">\n",
       "  <thead>\n",
       "    <tr style=\"text-align: right;\">\n",
       "      <th></th>\n",
       "      <th>title</th>\n",
       "      <th>text</th>\n",
       "      <th>subject</th>\n",
       "      <th>date</th>\n",
       "      <th>label</th>\n",
       "    </tr>\n",
       "  </thead>\n",
       "  <tbody>\n",
       "    <tr>\n",
       "      <th>0</th>\n",
       "      <td>As U.S. budget fight looms, Republicans flip t...</td>\n",
       "      <td>WASHINGTON (Reuters) - The head of a conservat...</td>\n",
       "      <td>politicsNews</td>\n",
       "      <td>December 31, 2017</td>\n",
       "      <td>true</td>\n",
       "    </tr>\n",
       "    <tr>\n",
       "      <th>1</th>\n",
       "      <td>U.S. military to accept transgender recruits o...</td>\n",
       "      <td>WASHINGTON (Reuters) - Transgender people will...</td>\n",
       "      <td>politicsNews</td>\n",
       "      <td>December 29, 2017</td>\n",
       "      <td>true</td>\n",
       "    </tr>\n",
       "    <tr>\n",
       "      <th>2</th>\n",
       "      <td>Senior U.S. Republican senator: 'Let Mr. Muell...</td>\n",
       "      <td>WASHINGTON (Reuters) - The special counsel inv...</td>\n",
       "      <td>politicsNews</td>\n",
       "      <td>December 31, 2017</td>\n",
       "      <td>true</td>\n",
       "    </tr>\n",
       "    <tr>\n",
       "      <th>3</th>\n",
       "      <td>FBI Russia probe helped by Australian diplomat...</td>\n",
       "      <td>WASHINGTON (Reuters) - Trump campaign adviser ...</td>\n",
       "      <td>politicsNews</td>\n",
       "      <td>December 30, 2017</td>\n",
       "      <td>true</td>\n",
       "    </tr>\n",
       "    <tr>\n",
       "      <th>4</th>\n",
       "      <td>Trump wants Postal Service to charge 'much mor...</td>\n",
       "      <td>SEATTLE/WASHINGTON (Reuters) - President Donal...</td>\n",
       "      <td>politicsNews</td>\n",
       "      <td>December 29, 2017</td>\n",
       "      <td>true</td>\n",
       "    </tr>\n",
       "  </tbody>\n",
       "</table>\n",
       "</div>"
      ],
      "text/plain": [
       "                                               title  \\\n",
       "0  As U.S. budget fight looms, Republicans flip t...   \n",
       "1  U.S. military to accept transgender recruits o...   \n",
       "2  Senior U.S. Republican senator: 'Let Mr. Muell...   \n",
       "3  FBI Russia probe helped by Australian diplomat...   \n",
       "4  Trump wants Postal Service to charge 'much mor...   \n",
       "\n",
       "                                                text       subject  \\\n",
       "0  WASHINGTON (Reuters) - The head of a conservat...  politicsNews   \n",
       "1  WASHINGTON (Reuters) - Transgender people will...  politicsNews   \n",
       "2  WASHINGTON (Reuters) - The special counsel inv...  politicsNews   \n",
       "3  WASHINGTON (Reuters) - Trump campaign adviser ...  politicsNews   \n",
       "4  SEATTLE/WASHINGTON (Reuters) - President Donal...  politicsNews   \n",
       "\n",
       "                 date label  \n",
       "0  December 31, 2017   true  \n",
       "1  December 29, 2017   true  \n",
       "2  December 31, 2017   true  \n",
       "3  December 30, 2017   true  \n",
       "4  December 29, 2017   true  "
      ]
     },
     "execution_count": 2,
     "metadata": {},
     "output_type": "execute_result"
    },
    {
     "data": {
      "text/html": [
       "<div>\n",
       "<style scoped>\n",
       "    .dataframe tbody tr th:only-of-type {\n",
       "        vertical-align: middle;\n",
       "    }\n",
       "\n",
       "    .dataframe tbody tr th {\n",
       "        vertical-align: top;\n",
       "    }\n",
       "\n",
       "    .dataframe thead th {\n",
       "        text-align: right;\n",
       "    }\n",
       "</style>\n",
       "<table border=\"1\" class=\"dataframe\">\n",
       "  <thead>\n",
       "    <tr style=\"text-align: right;\">\n",
       "      <th></th>\n",
       "      <th>title</th>\n",
       "      <th>text</th>\n",
       "      <th>subject</th>\n",
       "      <th>date</th>\n",
       "      <th>label</th>\n",
       "    </tr>\n",
       "  </thead>\n",
       "  <tbody>\n",
       "    <tr>\n",
       "      <th>0</th>\n",
       "      <td>Donald Trump Sends Out Embarrassing New Year’...</td>\n",
       "      <td>Donald Trump just couldn t wish all Americans ...</td>\n",
       "      <td>News</td>\n",
       "      <td>December 31, 2017</td>\n",
       "      <td>fake</td>\n",
       "    </tr>\n",
       "    <tr>\n",
       "      <th>1</th>\n",
       "      <td>Drunk Bragging Trump Staffer Started Russian ...</td>\n",
       "      <td>House Intelligence Committee Chairman Devin Nu...</td>\n",
       "      <td>News</td>\n",
       "      <td>December 31, 2017</td>\n",
       "      <td>fake</td>\n",
       "    </tr>\n",
       "    <tr>\n",
       "      <th>2</th>\n",
       "      <td>Sheriff David Clarke Becomes An Internet Joke...</td>\n",
       "      <td>On Friday, it was revealed that former Milwauk...</td>\n",
       "      <td>News</td>\n",
       "      <td>December 30, 2017</td>\n",
       "      <td>fake</td>\n",
       "    </tr>\n",
       "    <tr>\n",
       "      <th>3</th>\n",
       "      <td>Trump Is So Obsessed He Even Has Obama’s Name...</td>\n",
       "      <td>On Christmas day, Donald Trump announced that ...</td>\n",
       "      <td>News</td>\n",
       "      <td>December 29, 2017</td>\n",
       "      <td>fake</td>\n",
       "    </tr>\n",
       "    <tr>\n",
       "      <th>4</th>\n",
       "      <td>Pope Francis Just Called Out Donald Trump Dur...</td>\n",
       "      <td>Pope Francis used his annual Christmas Day mes...</td>\n",
       "      <td>News</td>\n",
       "      <td>December 25, 2017</td>\n",
       "      <td>fake</td>\n",
       "    </tr>\n",
       "  </tbody>\n",
       "</table>\n",
       "</div>"
      ],
      "text/plain": [
       "                                               title  \\\n",
       "0   Donald Trump Sends Out Embarrassing New Year’...   \n",
       "1   Drunk Bragging Trump Staffer Started Russian ...   \n",
       "2   Sheriff David Clarke Becomes An Internet Joke...   \n",
       "3   Trump Is So Obsessed He Even Has Obama’s Name...   \n",
       "4   Pope Francis Just Called Out Donald Trump Dur...   \n",
       "\n",
       "                                                text subject  \\\n",
       "0  Donald Trump just couldn t wish all Americans ...    News   \n",
       "1  House Intelligence Committee Chairman Devin Nu...    News   \n",
       "2  On Friday, it was revealed that former Milwauk...    News   \n",
       "3  On Christmas day, Donald Trump announced that ...    News   \n",
       "4  Pope Francis used his annual Christmas Day mes...    News   \n",
       "\n",
       "                date label  \n",
       "0  December 31, 2017  fake  \n",
       "1  December 31, 2017  fake  \n",
       "2  December 30, 2017  fake  \n",
       "3  December 29, 2017  fake  \n",
       "4  December 25, 2017  fake  "
      ]
     },
     "execution_count": 2,
     "metadata": {},
     "output_type": "execute_result"
    }
   ],
   "source": [
    "# Load the fake and true news CSVs into Pandas dataframes\n",
    "true_news = pd.read_csv('True.csv') \n",
    "fake_news = pd.read_csv('Fake.csv')\n",
    "\n",
    "# Add column for fake/true label\n",
    "true_news['label'] = 'true'\n",
    "fake_news['label'] = 'fake'\n",
    "\n",
    "# Preview first 5 rows in datasets to ensure they imported properly\n",
    "true_news.head()\n",
    "fake_news.head()"
   ]
  },
  {
   "cell_type": "code",
   "execution_count": 3,
   "metadata": {},
   "outputs": [
    {
     "data": {
      "text/plain": [
       "(44898, 2)"
      ]
     },
     "execution_count": 3,
     "metadata": {},
     "output_type": "execute_result"
    },
    {
     "data": {
      "text/html": [
       "<div>\n",
       "<style scoped>\n",
       "    .dataframe tbody tr th:only-of-type {\n",
       "        vertical-align: middle;\n",
       "    }\n",
       "\n",
       "    .dataframe tbody tr th {\n",
       "        vertical-align: top;\n",
       "    }\n",
       "\n",
       "    .dataframe thead th {\n",
       "        text-align: right;\n",
       "    }\n",
       "</style>\n",
       "<table border=\"1\" class=\"dataframe\">\n",
       "  <thead>\n",
       "    <tr style=\"text-align: right;\">\n",
       "      <th></th>\n",
       "      <th>text</th>\n",
       "      <th>target</th>\n",
       "    </tr>\n",
       "  </thead>\n",
       "  <tbody>\n",
       "    <tr>\n",
       "      <th>0</th>\n",
       "      <td>As U.S. budget fight looms, Republicans flip t...</td>\n",
       "      <td>1</td>\n",
       "    </tr>\n",
       "    <tr>\n",
       "      <th>1</th>\n",
       "      <td>U.S. military to accept transgender recruits o...</td>\n",
       "      <td>1</td>\n",
       "    </tr>\n",
       "    <tr>\n",
       "      <th>2</th>\n",
       "      <td>Senior U.S. Republican senator: 'Let Mr. Muell...</td>\n",
       "      <td>1</td>\n",
       "    </tr>\n",
       "    <tr>\n",
       "      <th>3</th>\n",
       "      <td>FBI Russia probe helped by Australian diplomat...</td>\n",
       "      <td>1</td>\n",
       "    </tr>\n",
       "    <tr>\n",
       "      <th>4</th>\n",
       "      <td>Trump wants Postal Service to charge 'much mor...</td>\n",
       "      <td>1</td>\n",
       "    </tr>\n",
       "    <tr>\n",
       "      <th>...</th>\n",
       "      <td>...</td>\n",
       "      <td>...</td>\n",
       "    </tr>\n",
       "    <tr>\n",
       "      <th>23471</th>\n",
       "      <td>Seven Iranians freed in the prisoner swap have...</td>\n",
       "      <td>0</td>\n",
       "    </tr>\n",
       "    <tr>\n",
       "      <th>23472</th>\n",
       "      <td>#Hashtag Hell &amp; The Fake Left By Dady Chery an...</td>\n",
       "      <td>0</td>\n",
       "    </tr>\n",
       "    <tr>\n",
       "      <th>23473</th>\n",
       "      <td>Astroturfing: Journalist Reveals Brainwashing ...</td>\n",
       "      <td>0</td>\n",
       "    </tr>\n",
       "    <tr>\n",
       "      <th>23474</th>\n",
       "      <td>The New American Century: An Era of FraudPaul ...</td>\n",
       "      <td>0</td>\n",
       "    </tr>\n",
       "    <tr>\n",
       "      <th>23475</th>\n",
       "      <td>Hillary Clinton: ‘Israel First’ (and no peace ...</td>\n",
       "      <td>0</td>\n",
       "    </tr>\n",
       "  </tbody>\n",
       "</table>\n",
       "<p>44893 rows × 2 columns</p>\n",
       "</div>"
      ],
      "text/plain": [
       "                                                    text  target\n",
       "0      As U.S. budget fight looms, Republicans flip t...       1\n",
       "1      U.S. military to accept transgender recruits o...       1\n",
       "2      Senior U.S. Republican senator: 'Let Mr. Muell...       1\n",
       "3      FBI Russia probe helped by Australian diplomat...       1\n",
       "4      Trump wants Postal Service to charge 'much mor...       1\n",
       "...                                                  ...     ...\n",
       "23471  Seven Iranians freed in the prisoner swap have...       0\n",
       "23472  #Hashtag Hell & The Fake Left By Dady Chery an...       0\n",
       "23473  Astroturfing: Journalist Reveals Brainwashing ...       0\n",
       "23474  The New American Century: An Era of FraudPaul ...       0\n",
       "23475  Hillary Clinton: ‘Israel First’ (and no peace ...       0\n",
       "\n",
       "[44893 rows x 2 columns]"
      ]
     },
     "execution_count": 3,
     "metadata": {},
     "output_type": "execute_result"
    },
    {
     "data": {
      "text/plain": [
       "text      0\n",
       "target    0\n",
       "dtype: int64"
      ]
     },
     "execution_count": 3,
     "metadata": {},
     "output_type": "execute_result"
    }
   ],
   "source": [
    "# Combine true_news and fake_news data frames into one\n",
    "dfs = [true_news, fake_news]\n",
    "news_data = pd.concat(dfs)\n",
    "\n",
    "# Initialize instance of LabelEncoder\n",
    "le = preprocessing.LabelEncoder()\n",
    "\n",
    "# Assign numerical values to column of target values (true = 1, fake = 0)\n",
    "news_data['target'] = le.fit_transform(news_data['label'])\n",
    "\n",
    "# Concatenate text columns and isolate only relevant columns for analysis (i.e., text and target)\n",
    "news_data['text'] = news_data['title'] + news_data['text']\n",
    "news_data = news_data[['text', 'target']]\n",
    "\n",
    "# Check that binary values were assigned correctly\n",
    "news_data.shape # data frame dimensions\n",
    "news_data.head(-5) # first 5 and last 5 rows\n",
    "news_data.isnull().sum() # check for null values"
   ]
  },
  {
   "cell_type": "code",
   "execution_count": 4,
   "metadata": {},
   "outputs": [
    {
     "name": "stderr",
     "output_type": "stream",
     "text": [
      "[nltk_data] Downloading package omw-1.4 to\n",
      "[nltk_data]     C:\\Users\\ZLoken\\AppData\\Roaming\\nltk_data...\n",
      "[nltk_data]   Package omw-1.4 is already up-to-date!\n"
     ]
    },
    {
     "data": {
      "text/plain": [
       "True"
      ]
     },
     "execution_count": 4,
     "metadata": {},
     "output_type": "execute_result"
    },
    {
     "name": "stderr",
     "output_type": "stream",
     "text": [
      "[nltk_data] Downloading package stopwords to\n",
      "[nltk_data]     C:\\Users\\ZLoken\\AppData\\Roaming\\nltk_data...\n",
      "[nltk_data]   Package stopwords is already up-to-date!\n"
     ]
    },
    {
     "data": {
      "text/plain": [
       "True"
      ]
     },
     "execution_count": 4,
     "metadata": {},
     "output_type": "execute_result"
    },
    {
     "name": "stderr",
     "output_type": "stream",
     "text": [
      "[nltk_data] Downloading package wordnet to\n",
      "[nltk_data]     C:\\Users\\ZLoken\\AppData\\Roaming\\nltk_data...\n",
      "[nltk_data]   Package wordnet is already up-to-date!\n"
     ]
    },
    {
     "data": {
      "text/plain": [
       "True"
      ]
     },
     "execution_count": 4,
     "metadata": {},
     "output_type": "execute_result"
    }
   ],
   "source": [
    "# Initialize instance of WordNetLemmatizer() -- reduce words to their roots\n",
    "wnl = WordNetLemmatizer()\n",
    "\n",
    "# Download multilingual Wordnet data from OMW\n",
    "nltk.download('omw-1.4')\n",
    "\n",
    "# List of english stopwords\n",
    "nltk.download('stopwords') \n",
    "stop_words = set(stopwords.words('english'))\n",
    "\n",
    "# Download english dictionary ('wordnet')\n",
    "nltk.download('wordnet')"
   ]
  },
  {
   "cell_type": "code",
   "execution_count": 5,
   "metadata": {},
   "outputs": [
    {
     "data": {
      "text/plain": [
       "text      0\n",
       "target    0\n",
       "dtype: int64"
      ]
     },
     "execution_count": 5,
     "metadata": {},
     "output_type": "execute_result"
    }
   ],
   "source": [
    "# Define function for cleaning data\n",
    "def data_cleaning(row):\n",
    "    row = row.lower() # convert text into lowercase\n",
    "    row = re.sub('[^a-zA-Z]', ' ', row) # remove number and special characters using regex (keep words only)\n",
    "    token = row.split() # split the data and tokenize it\n",
    "    news = [wnl.lemmatize(word) for word in token if not word in stop_words] # lemmatize the words and remove any stopwords (e.g., a, an, the, etc.)\n",
    "    cleaned_news = ' '.join(news) # join all tokenized words with space in between \n",
    "    \n",
    "    return cleaned_news\n",
    "\n",
    "# Clean the data - might take a couple minutes to run.\n",
    "news_data['text'] = news_data['text'].apply(lambda x : data_cleaning(x)) # 'text' column\n",
    "\n",
    "# Check for null values\n",
    "news_data.isnull().sum()"
   ]
  },
  {
   "cell_type": "code",
   "execution_count": 6,
   "metadata": {},
   "outputs": [
    {
     "data": {
      "text/plain": [
       "21370    finnish police release one knife attack suspec...\n",
       "2470     federal reserve nominee quarles pledge transpa...\n",
       "13767    pope meet myanmar military chief shadow rohing...\n",
       "13316    bosnian croat war criminal praljak killed cyan...\n",
       "4957     gop senator compare obama drug dealer republic...\n",
       "                               ...                        \n",
       "17089    catalan foreign affair chief say planning regi...\n",
       "14650    turkey detains suspected tie coup plotter agen...\n",
       "18095    watch robin williams call hypocrisy audience p...\n",
       "15430    eu eye tough brexit transition termsbrussels r...\n",
       "14935    green hold climate german coalition talksberli...\n",
       "Name: text, Length: 31995, dtype: object"
      ]
     },
     "execution_count": 6,
     "metadata": {},
     "output_type": "execute_result"
    },
    {
     "data": {
      "text/plain": [
       "12836    german voter punish fdp leader coalition walko...\n",
       "10913    obama budget envisions trillion year deficit r...\n",
       "4214     penny say south korea u free trade agreement r...\n",
       "8198     obama host italy renzi state visit oct washing...\n",
       "9986     mainstream medium spread huge lie gop official...\n",
       "                               ...                        \n",
       "9201     fcc vote repeal obama net neutrality rule bomb...\n",
       "10850    obama block north korea sanction bill white ho...\n",
       "9461     clinton call trump unsteady presidentwashingto...\n",
       "5417     queen declares rnc use music unauthorizedyeste...\n",
       "4276     elizabeth warren slapped hell trump busy losin...\n",
       "Name: text, Length: 7995, dtype: object"
      ]
     },
     "execution_count": 6,
     "metadata": {},
     "output_type": "execute_result"
    },
    {
     "data": {
      "text/plain": [
       "21370    1\n",
       "2470     1\n",
       "13767    1\n",
       "13316    1\n",
       "4957     0\n",
       "        ..\n",
       "17089    1\n",
       "14650    1\n",
       "18095    0\n",
       "15430    1\n",
       "14935    1\n",
       "Name: target, Length: 31995, dtype: int32"
      ]
     },
     "execution_count": 6,
     "metadata": {},
     "output_type": "execute_result"
    }
   ],
   "source": [
    "# Separate news_data into predictor and response variables\n",
    "X = news_data.iloc[:40000, 0] # features used to predict if news is fake or true\n",
    "y = news_data.iloc[:40000, 1] # what we're trying to predict: (whether is fake(0) or true(1))\n",
    "\n",
    "# Split the data into training and test subsets\n",
    "train_data, test_data, train_target, test_target = train_test_split(X, y, random_state = 0, train_size = 0.80)\n",
    "\n",
    "# View first 5 rows to ensure data split worked correctly\n",
    "train_data.head(-5)\n",
    "test_data.head(-5)\n",
    "train_target.head(-5)"
   ]
  },
  {
   "cell_type": "code",
   "execution_count": 7,
   "metadata": {},
   "outputs": [
    {
     "data": {
      "text/plain": [
       "((32000,), (8000,))"
      ]
     },
     "execution_count": 7,
     "metadata": {},
     "output_type": "execute_result"
    },
    {
     "data": {
      "text/plain": [
       "((32000, 50000), (8000, 50000))"
      ]
     },
     "execution_count": 7,
     "metadata": {},
     "output_type": "execute_result"
    },
    {
     "data": {
      "text/plain": [
       "1    17169\n",
       "0    14831\n",
       "Name: target, dtype: int64"
      ]
     },
     "execution_count": 7,
     "metadata": {},
     "output_type": "execute_result"
    },
    {
     "data": {
      "text/plain": [
       "1    4248\n",
       "0    3752\n",
       "Name: target, dtype: int64"
      ]
     },
     "execution_count": 7,
     "metadata": {},
     "output_type": "execute_result"
    }
   ],
   "source": [
    "# Initialize vectorizer\n",
    "vectorizer = TfidfVectorizer(max_features = 50000, lowercase = False, ngram_range = (1,2))\n",
    "\n",
    "# Vectorize training data\n",
    "vec_train_data = vectorizer.fit_transform(train_data)\n",
    "vec_train_data = vec_train_data.toarray()\n",
    "\n",
    "# Vectorize test data\n",
    "vec_test_data = vectorizer.transform(test_data).toarray()\n",
    "\n",
    "# Double check dimensions\n",
    "train_data.shape , test_data.shape # pre-vectorization\n",
    "vec_train_data.shape , vec_test_data.shape #post-vectorization\n",
    "\n",
    "# Double check data partitioning after split\n",
    "train_target.value_counts() # balanced partition of train data\n",
    "test_target.value_counts() # balanced partition of test data"
   ]
  },
  {
   "cell_type": "code",
   "execution_count": 8,
   "metadata": {},
   "outputs": [],
   "source": [
    "# Store vectorized training and test data into respective dfs\n",
    "training_data = pd.DataFrame(vec_train_data , columns=vectorizer.get_feature_names())\n",
    "testing_data = pd.DataFrame(vec_test_data , columns= vectorizer.get_feature_names())"
   ]
  }
 ],
 "metadata": {
  "kernelspec": {
   "display_name": "Python 3.9.7 ('base')",
   "language": "python",
   "name": "python3"
  },
  "language_info": {
   "codemirror_mode": {
    "name": "ipython",
    "version": 3
   },
   "file_extension": ".py",
   "mimetype": "text/x-python",
   "name": "python",
   "nbconvert_exporter": "python",
   "pygments_lexer": "ipython3",
   "version": "3.9.7"
  },
  "orig_nbformat": 4,
  "vscode": {
   "interpreter": {
    "hash": "bb41745365b0f6cd342db2064230ca33a3bbb95e73a9c1a8b502f45a833dbf8f"
   }
  }
 },
 "nbformat": 4,
 "nbformat_minor": 2
}
